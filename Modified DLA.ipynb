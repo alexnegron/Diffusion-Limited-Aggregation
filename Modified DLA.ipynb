{
 "cells": [
  {
   "cell_type": "markdown",
   "metadata": {},
   "source": [
    "# Modified DLA"
   ]
  },
  {
   "cell_type": "markdown",
   "metadata": {},
   "source": [
    "The code below implements a modified version of the classical diffusion limited aggregation algorithm. The algorithm is as follows: \n",
    "\n",
    "Input: $N$, $T$, `num_particles`\n",
    "\n",
    "\n",
    "1. Initialize an $N \\times N$ matrix of 0s. \n",
    "2. Initialize an initial set (cluster) of seed points. Note that the cluster's shape matters. The code below implemented first a diamond/square-shaped cluster and then a circle-shaped cluster. Points in the cluster are coordinate pairs that also coorespond to entries in the $N \\times N$ matrix. Points in the cluster are represented in the matrix with 1s.\n",
    "3. Release a number of particles determined by `num_particles` uniformly at random within the $N \\times N$ box.\n",
    "4. Step all of of these particles in random directions. Note that particles are prohibited from walking \"out of bounds\" (they reflect off the grid's boundary)\n",
    "5. If a particle moves into a spot adjacent (diagonal adjacency doesn't count) to a particle in the cluster, this particle is added to the cluster and no longer takes random steps. \n",
    "6. Steps 4 and 5 are repeated until a time counter reaches a value of $T$, at which point the simulation ends and the matrix of 0s and 1s is printed, with 1s colored black and 0s colored white. "
   ]
  },
  {
   "cell_type": "code",
   "execution_count": 1,
   "metadata": {},
   "outputs": [],
   "source": [
    "# packages used\n",
    "import math\n",
    "from math import sqrt\n",
    "import numpy as np\n",
    "import matplotlib.pyplot as plt \n",
    "from matplotlib import colors\n",
    "import random\n",
    "%matplotlib inline\n"
   ]
  },
  {
   "cell_type": "code",
   "execution_count": 2,
   "metadata": {},
   "outputs": [],
   "source": [
    "def taxicab_distance(pos_one, pos_two): # used to generate diamond-shaped seed cluster\n",
    "    return abs(pos_one[0]-pos_two[0]) + abs(pos_one[1]-pos_two[1])"
   ]
  },
  {
   "cell_type": "code",
   "execution_count": 5,
   "metadata": {},
   "outputs": [],
   "source": [
    "def check_atEdge(pos, N):\n",
    "    atEdge = False\n",
    "    if pos[0] >= N-1 or pos[0] <= 1 or pos[1] >= N-1 or pos[1] <= 1:\n",
    "        atEdge = True\n",
    "    return atEdge"
   ]
  },
  {
   "cell_type": "code",
   "execution_count": 6,
   "metadata": {},
   "outputs": [],
   "source": [
    "def check_stuck(pos, N, matrix):\n",
    "\n",
    "    stuck = False\n",
    "    atEdge = check_atEdge(pos, N)\n",
    "    if not atEdge:                       \n",
    "        posDown = matrix[pos[1]+1, pos[0]]  \n",
    "        posUp = matrix[pos[1]-1, pos[0]]\n",
    "        posRight = matrix[pos[1], pos[0]+1]\n",
    "        posLeft = matrix[pos[1], pos[0]-1]\n",
    "        if posDown == 1 or posUp == 1 or posRight == 1 or posLeft == 1:\n",
    "            stuck = True\n",
    "            \n",
    "    return stuck"
   ]
  },
  {
   "cell_type": "code",
   "execution_count": 7,
   "metadata": {},
   "outputs": [],
   "source": [
    "def random_in_box(N):\n",
    "    x = int(random.uniform(0,N))\n",
    "    y = int(random.uniform(0,N))\n",
    "    return x,y"
   ]
  },
  {
   "cell_type": "markdown",
   "metadata": {},
   "source": [
    "`step_all_walkers`: updates every walker in the `walkers` list by stepping each walker in a random direction. Note that the function currently does not resolve situations where walkers step into the same position. The resolutions I came up with were not computationally feasible and slowed the program down too much. "
   ]
  },
  {
   "cell_type": "code",
   "execution_count": 11,
   "metadata": {},
   "outputs": [],
   "source": [
    "def step_all_walkers(walkers): \n",
    "    initial_positions = walkers\n",
    "    updated_positions = []\n",
    "    \n",
    "    for walker in walkers: \n",
    "        decision = random.randint(0,3)\n",
    "        \n",
    "        if decision == 0: \n",
    "            updated_walker = (min(walker[0]+1, N), walker[1])\n",
    "        elif decision == 1: \n",
    "            updated_walker = (max(walker[0]-1, 0), walker[1])\n",
    "        elif decision == 2: \n",
    "            updated_walker = (walker[0], min(walker[1] + 1, N))\n",
    "        elif decision == 3: \n",
    "            updated_walker = (walker[0], max(walker[1]-1, 0))\n",
    "        \n",
    "        updated_positions.append(updated_walker)\n",
    "            \n",
    "    return updated_positions "
   ]
  },
  {
   "cell_type": "code",
   "execution_count": 28,
   "metadata": {},
   "outputs": [
    {
     "name": "stdout",
     "output_type": "stream",
     "text": [
      "1 timesteps so far, particles added to cluster:  0\n",
      "3 timesteps so far, particles added to cluster:  5411\n",
      "5 timesteps so far, particles added to cluster:  10390\n",
      "7 timesteps so far, particles added to cluster:  16616\n",
      "9 timesteps so far, particles added to cluster:  24547\n"
     ]
    },
    {
     "data": {
      "image/png": "[encoded data removed]",
      "text/plain": [
       "<Figure size 288x288 with 1 Axes>"
      ]
     },
     "metadata": {
      "needs_background": "light"
     },
     "output_type": "display_data"
    }
   ],
   "source": [
    "N = 200 # grid size\n",
    "num_particles = 100000\n",
    "\n",
    "walkers = []\n",
    "cluster = []\n",
    "\n",
    "matrix = np.zeros((N,N))\n",
    "cmap = colors.ListedColormap(['white', 'black'])\n",
    "\n",
    "cluster = [(col, row) for row in range(0,N) for col in range(0,N) \n",
    "           if (col-N//2)**2 + (row-N//2)**2 < (20)**2] # circular seed \n",
    "           \n",
    "           #if taxicab_distance((col,row), (N//2, N//2)) < 50] # diamond/square seed\n",
    "\n",
    "for particle in cluster: # update the grid to reflect this cluster choice\n",
    "    matrix[particle[1]][particle[0]] = 1\n",
    "\n",
    "# for row in range(0, N): # this makes the seed cluster a box \n",
    "#     for col in range(0, N):\n",
    "#         if taxicab_distance((col,row), (N//2, N//2)) < 20:\n",
    "#             matrix[row][col] = 1\n",
    "#             cluster.append((col,row))\n",
    "\n",
    "T = 10\n",
    "particlesAdded = 0\n",
    "t = 0\n",
    "    \n",
    "for i in range (0, num_particles):  # this loop initializes walker positions uniformly at random in the grid\n",
    "    walker = random_in_box(N)\n",
    "    walkers.append(walker)\n",
    "\n",
    "while t < T and particlesAdded < num_particles: # run simulation up to T time-steps\n",
    "    t += 1\n",
    "    walkers = step_all_walkers(walkers)\n",
    "    \n",
    "    interval = range(1, T, 2)\n",
    "    if t in interval:\n",
    "        print(t, \"timesteps so far, particles added to cluster: \", particlesAdded)\n",
    "    \n",
    "    for walker in walkers:\n",
    "        \n",
    "        walker_stuck = check_stuck(walker, N, matrix)\n",
    "        \n",
    "        if walker_stuck: \n",
    "            matrix[walker[1]][walker[0]] = 1\n",
    "            particlesAdded += 1\n",
    "            walkers.remove(walker)\n",
    "            cluster.append(walker)\n",
    "            \n",
    "plt.matshow(matrix, interpolation = 'nearest', cmap = cmap)\n",
    "plt.show()"
   ]
  },
  {
   "cell_type": "code",
   "execution_count": null,
   "metadata": {},
   "outputs": [],
   "source": []
  },
  {
   "cell_type": "code",
   "execution_count": null,
   "metadata": {},
   "outputs": [],
   "source": []
  }
 ],
 "metadata": {
  "kernelspec": {
   "display_name": "Python 3",
   "language": "python",
   "name": "python3"
  },
  "language_info": {
   "codemirror_mode": {
    "name": "ipython",
    "version": 3
   },
   "file_extension": ".py",
   "mimetype": "text/x-python",
   "name": "python",
   "nbconvert_exporter": "python",
   "pygments_lexer": "ipython3",
   "version": "3.7.6"
  }
 },
 "nbformat": 4,
 "nbformat_minor": 4
}
